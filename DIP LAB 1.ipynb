{
 "cells": [
  {
   "cell_type": "markdown",
   "id": "e199eefe",
   "metadata": {},
   "source": [
    "\n",
    "Perform basic image operations such as resizing, cropping, rotation, zooming, shrinking, and flipping using Python (OpenCV and PIL).\n",
    "Tasks:\n",
    "•\tRead an image using OpenCV and PIL.\n",
    "•\tResize the image to different dimensions.\n",
    "•\tCrop a specific region from the image.\n",
    "•\tRotate the image by a certain angle.\n",
    "•\tZoom into the image by a certain factor.\n",
    "•\tShrink the image by a certain factor.\n",
    "•\tFlip the image horizontally and vertically.\n"
   ]
  },
  {
   "cell_type": "markdown",
   "id": "a79ec269",
   "metadata": {},
   "source": [
    "# Read an image using OpenCV and PIL"
   ]
  },
  {
   "cell_type": "code",
   "execution_count": 2,
   "id": "7a4b2514",
   "metadata": {},
   "outputs": [],
   "source": [
    "import cv2\n",
    "from PIL import Image\n",
    "import numpy as np\n",
    "\n",
    "# Read an image using OpenCV\n",
    "img_cv = cv2.imread('images/image1.tif')\n",
    "cv2.imshow('OpenCV Image', img_cv)\n",
    "cv2.waitKey(0)\n",
    "cv2.destroyAllWindows()\n",
    "\n",
    "# Read an image using PIL\n",
    "img_pil = Image.open('images/image1.tif')\n",
    "img_pil.show()\n"
   ]
  },
  {
   "cell_type": "markdown",
   "id": "b8d4c8fb",
   "metadata": {},
   "source": [
    "# Resize the image to different dimensions"
   ]
  },
  {
   "cell_type": "code",
   "execution_count": 3,
   "id": "d6041931",
   "metadata": {},
   "outputs": [],
   "source": [
    "def resize_image(img_cv, img_pil, width, height):\n",
    "    resized_cv = cv2.resize(img_cv, (width, height))\n",
    "    resized_pil = img_pil.resize((width, height))\n",
    "    return resized_cv, resized_pil\n",
    "\n",
    "width, height = 200, 200\n",
    "resized_cv, resized_pil = resize_image(img_cv, img_pil, width, height)\n",
    "\n",
    "cv2.imshow('Resized Image - OpenCV', resized_cv)\n",
    "resized_pil.show()\n",
    "\n",
    "cv2.waitKey(0)\n",
    "cv2.destroyAllWindows()\n"
   ]
  },
  {
   "cell_type": "markdown",
   "id": "7a7b6248",
   "metadata": {},
   "source": [
    "# Crop a specific region from the image"
   ]
  },
  {
   "cell_type": "code",
   "execution_count": 4,
   "id": "135a83a7",
   "metadata": {},
   "outputs": [],
   "source": [
    "def crop_image(img_cv, img_pil, left, top, right, bottom):\n",
    "    cropped_cv = img_cv[top:bottom, left:right]\n",
    "    cropped_pil = img_pil.crop((left, top, right, bottom))\n",
    "    return cropped_cv, cropped_pil\n",
    "\n",
    "left, top, right, bottom = 50, 50, 300, 300\n",
    "cropped_cv, cropped_pil = crop_image(img_cv, img_pil, left, top, right, bottom)\n",
    "\n",
    "cv2.imshow('Cropped Image - OpenCV', cropped_cv)\n",
    "cropped_pil.show()\n",
    "\n",
    "cv2.waitKey(0)\n",
    "cv2.destroyAllWindows()\n"
   ]
  },
  {
   "cell_type": "markdown",
   "id": "2c05a895",
   "metadata": {},
   "source": [
    "# Rotate the image by a certain angle"
   ]
  },
  {
   "cell_type": "code",
   "execution_count": 5,
   "id": "4d003b49",
   "metadata": {},
   "outputs": [],
   "source": [
    "def rotate_image(img_cv, img_pil, angle):\n",
    "    (h, w) = img_cv.shape[:2]\n",
    "    center = (w / 2, h / 2)\n",
    "    M = cv2.getRotationMatrix2D(center, angle, 1.0)\n",
    "    rotated_cv = cv2.warpAffine(img_cv, M, (w, h))\n",
    "    rotated_pil = img_pil.rotate(angle)\n",
    "    return rotated_cv, rotated_pil\n",
    "\n",
    "angle = 45\n",
    "rotated_cv, rotated_pil = rotate_image(img_cv, img_pil, angle)\n",
    "\n",
    "cv2.imshow('Rotated Image - OpenCV', rotated_cv)\n",
    "rotated_pil.show()\n",
    "\n",
    "cv2.waitKey(0)\n",
    "cv2.destroyAllWindows()\n"
   ]
  },
  {
   "cell_type": "markdown",
   "id": "bfd15104",
   "metadata": {},
   "source": [
    "# Zoom into the image by a certain factor"
   ]
  },
  {
   "cell_type": "code",
   "execution_count": 6,
   "id": "216da74b",
   "metadata": {},
   "outputs": [],
   "source": [
    "def zoom_image(img_cv, img_pil, zoom_factor):\n",
    "    (h, w) = img_cv.shape[:2]\n",
    "    zoomed_cv = cv2.resize(img_cv, None, fx=zoom_factor, fy=zoom_factor)\n",
    "    zoomed_pil = img_pil.resize((int(w * zoom_factor), int(h * zoom_factor)))\n",
    "    return zoomed_cv, zoomed_pil\n",
    "\n",
    "zoom_factor = 1.5\n",
    "zoomed_cv, zoomed_pil = zoom_image(img_cv, img_pil, zoom_factor)\n",
    "\n",
    "cv2.imshow('Zoomed Image - OpenCV', zoomed_cv)\n",
    "zoomed_pil.show()\n",
    "\n",
    "cv2.waitKey(0)\n",
    "cv2.destroyAllWindows()\n"
   ]
  },
  {
   "cell_type": "markdown",
   "id": "768b1e7c",
   "metadata": {},
   "source": [
    "# Shrink the image by a certain factor"
   ]
  },
  {
   "cell_type": "code",
   "execution_count": 7,
   "id": "f727c336",
   "metadata": {},
   "outputs": [],
   "source": [
    "def shrink_image(img_cv, img_pil, shrink_factor):\n",
    "    (h, w) = img_cv.shape[:2]\n",
    "    shrunk_cv = cv2.resize(img_cv, None, fx=shrink_factor, fy=shrink_factor)\n",
    "    shrunk_pil = img_pil.resize((int(w * shrink_factor), int(h * shrink_factor)))\n",
    "    return shrunk_cv, shrunk_pil\n",
    "\n",
    "shrink_factor = 0.5\n",
    "shrunk_cv, shrunk_pil = shrink_image(img_cv, img_pil, shrink_factor)\n",
    "\n",
    "cv2.imshow('Shrunk Image - OpenCV', shrunk_cv)\n",
    "shrunk_pil.show()\n",
    "\n",
    "cv2.waitKey(0)\n",
    "cv2.destroyAllWindows()\n"
   ]
  },
  {
   "cell_type": "markdown",
   "id": "7733e9f7",
   "metadata": {},
   "source": [
    "# Flip the image horizontally and vertically"
   ]
  },
  {
   "cell_type": "code",
   "execution_count": 8,
   "id": "e721163f",
   "metadata": {},
   "outputs": [],
   "source": [
    "def flip_image(img_cv, img_pil, flip_code):\n",
    "    flipped_cv = cv2.flip(img_cv, flip_code)\n",
    "    if flip_code == 0:\n",
    "        flipped_pil = img_pil.transpose(Image.FLIP_TOP_BOTTOM)\n",
    "    elif flip_code == 1:\n",
    "        flipped_pil = img_pil.transpose(Image.FLIP_LEFT_RIGHT)\n",
    "    else:\n",
    "        flipped_pil = img_pil.transpose(Image.ROTATE_180)\n",
    "    return flipped_cv, flipped_pil\n",
    "\n",
    "# Flip horizontally\n",
    "flipped_hor_cv, flipped_hor_pil = flip_image(img_cv, img_pil, 1)\n",
    "cv2.imshow('Flipped Horizontally - OpenCV', flipped_hor_cv)\n",
    "flipped_hor_pil.show()\n",
    "\n",
    "# Flip vertically\n",
    "flipped_ver_cv, flipped_ver_pil = flip_image(img_cv, img_pil, 0)\n",
    "cv2.imshow('Flipped Vertically - OpenCV', flipped_ver_cv)\n",
    "flipped_ver_pil.show()\n",
    "\n",
    "cv2.waitKey(0)\n",
    "cv2.destroyAllWindows()\n"
   ]
  },
  {
   "cell_type": "code",
   "execution_count": null,
   "id": "60231ad4",
   "metadata": {},
   "outputs": [],
   "source": []
  }
 ],
 "metadata": {
  "kernelspec": {
   "display_name": "Python 3 (ipykernel)",
   "language": "python",
   "name": "python3"
  },
  "language_info": {
   "codemirror_mode": {
    "name": "ipython",
    "version": 3
   },
   "file_extension": ".py",
   "mimetype": "text/x-python",
   "name": "python",
   "nbconvert_exporter": "python",
   "pygments_lexer": "ipython3",
   "version": "3.9.12"
  }
 },
 "nbformat": 4,
 "nbformat_minor": 5
}
